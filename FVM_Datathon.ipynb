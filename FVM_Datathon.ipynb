{
  "nbformat": 4,
  "nbformat_minor": 0,
  "metadata": {
    "colab": {
      "provenance": [],
      "mount_file_id": "1WbaTX1zI6TKYOjjLaTOkC4stm6yL2Xnj",
      "authorship_tag": "ABX9TyMVEg8FdqwLDP74pFSgnveu",
      "include_colab_link": true
    },
    "kernelspec": {
      "name": "python3",
      "display_name": "Python 3"
    },
    "language_info": {
      "name": "python"
    }
  },
  "cells": [
    {
      "cell_type": "markdown",
      "metadata": {
        "id": "view-in-github",
        "colab_type": "text"
      },
      "source": [
        "<a href=\"https://colab.research.google.com/github/fvergara24/Datathon_FVM/blob/main/FVM_Datathon.ipynb\" target=\"_parent\"><img src=\"https://colab.research.google.com/assets/colab-badge.svg\" alt=\"Open In Colab\"/></a>"
      ]
    },
    {
      "cell_type": "markdown",
      "source": [
        "##Descripción del Problema\n",
        "Nos da la tarea de implementar un modelo que nos permita predecir la cantidad de bicicletas que se alquilan según la información contenida en el dataset puesto a disposición."
      ],
      "metadata": {
        "id": "mMM7tNxcK6PD"
      }
    },
    {
      "cell_type": "markdown",
      "source": [
        "##Objetivo\n",
        "Predecir la cantidad de bicicletas (cnt) que se alquilan "
      ],
      "metadata": {
        "id": "s0YhI8uLrVsh"
      }
    },
    {
      "cell_type": "markdown",
      "source": [
        "##LIBRERÍAS"
      ],
      "metadata": {
        "id": "XlspgC6crlNk"
      }
    },
    {
      "cell_type": "code",
      "execution_count": 88,
      "metadata": {
        "id": "1PqVGpOi6OQe"
      },
      "outputs": [],
      "source": [
        "import pandas as pd\n",
        "import numpy as np\n",
        "import plotly.express as px\n",
        "import matplotlib.pyplot as plt\n",
        "import datetime as dt\n",
        "import calendar\n",
        "from sklearn.linear_model import LinearRegression\n",
        "from sklearn.model_selection import train_test_split\n",
        "from sklearn.metrics import mean_squared_error"
      ]
    },
    {
      "cell_type": "markdown",
      "source": [
        "## DATOS "
      ],
      "metadata": {
        "id": "eGOr8pPIs7la"
      }
    },
    {
      "cell_type": "code",
      "source": [
        "train=pd.read_excel('/content/drive/MyDrive/PI2/bike_train.xlsx')\n",
        "test=pd.read_excel('/content/drive/MyDrive/PI2/bike_test.xlsx')"
      ],
      "metadata": {
        "id": "UXV5y03OWcZH"
      },
      "execution_count": 120,
      "outputs": []
    },
    {
      "cell_type": "markdown",
      "source": [
        "## EXPLORACIÓN\n",
        "Se utiliza el Dataset Train para la exploración "
      ],
      "metadata": {
        "id": "8cRCTCN2tABb"
      }
    },
    {
      "cell_type": "code",
      "source": [
        "train.info()"
      ],
      "metadata": {
        "colab": {
          "base_uri": "https://localhost:8080/"
        },
        "id": "m5SsDaIRrzFS",
        "outputId": "87566e62-2c31-4673-91df-480bbe30cfa4"
      },
      "execution_count": 97,
      "outputs": [
        {
          "output_type": "stream",
          "name": "stdout",
          "text": [
            "<class 'pandas.core.frame.DataFrame'>\n",
            "RangeIndex: 11999 entries, 0 to 11998\n",
            "Data columns (total 17 columns):\n",
            " #   Column      Non-Null Count  Dtype         \n",
            "---  ------      --------------  -----         \n",
            " 0   instant     11999 non-null  int64         \n",
            " 1   dteday      11999 non-null  datetime64[ns]\n",
            " 2   season      11999 non-null  int64         \n",
            " 3   yr          11999 non-null  int64         \n",
            " 4   mnth        11999 non-null  int64         \n",
            " 5   hr          11999 non-null  int64         \n",
            " 6   holiday     11999 non-null  int64         \n",
            " 7   weekday     11999 non-null  int64         \n",
            " 8   workingday  11999 non-null  int64         \n",
            " 9   weathersit  11999 non-null  int64         \n",
            " 10  temp        11999 non-null  float64       \n",
            " 11  atemp       11999 non-null  float64       \n",
            " 12  hum         11999 non-null  float64       \n",
            " 13  windspeed   11999 non-null  float64       \n",
            " 14  casual      11999 non-null  int64         \n",
            " 15  registered  11999 non-null  int64         \n",
            " 16  cnt         11999 non-null  int64         \n",
            "dtypes: datetime64[ns](1), float64(4), int64(12)\n",
            "memory usage: 1.6 MB\n"
          ]
        }
      ]
    },
    {
      "cell_type": "code",
      "source": [
        "px.scatter(train, x='dteday',y='cnt').show()"
      ],
      "metadata": {
        "id": "BZBCFjjBKfbb"
      },
      "execution_count": null,
      "outputs": []
    },
    {
      "cell_type": "code",
      "source": [
        "px.scatter(train, x='season',y='cnt').show()"
      ],
      "metadata": {
        "id": "IXSThJeLLRfJ"
      },
      "execution_count": null,
      "outputs": []
    },
    {
      "cell_type": "code",
      "source": [
        "px.scatter(train, x='dteday',y='cnt',color='weekday').show()"
      ],
      "metadata": {
        "id": "RAzZKyj4m_xN"
      },
      "execution_count": null,
      "outputs": []
    },
    {
      "cell_type": "code",
      "source": [
        "train.describe()"
      ],
      "metadata": {
        "id": "kPLSOSSUnZjD"
      },
      "execution_count": null,
      "outputs": []
    },
    {
      "cell_type": "code",
      "source": [
        "train.groupby(by='weekday').mean()"
      ],
      "metadata": {
        "id": "e582srR6ngG6"
      },
      "execution_count": null,
      "outputs": []
    },
    {
      "cell_type": "code",
      "source": [
        "train1=train[['season','holiday','weekday','workingday','weathersit','temp','hum','windspeed','cnt']].copy()\n",
        "px.scatter_matrix(train1).update_layout( width=900, height=1100).show()"
      ],
      "metadata": {
        "id": "-P5fwAgyn5pw"
      },
      "execution_count": null,
      "outputs": []
    },
    {
      "cell_type": "code",
      "source": [
        "px.scatter(train,x='temp',y='cnt')"
      ],
      "metadata": {
        "id": "xmgRIJWdoRYa"
      },
      "execution_count": null,
      "outputs": []
    },
    {
      "cell_type": "markdown",
      "source": [
        "Notemos que hay una tendencia lineal con la temperatura hasta el máximo y después una tendendcia negativa"
      ],
      "metadata": {
        "id": "qJvLRzE4wYyS"
      }
    },
    {
      "cell_type": "code",
      "source": [
        "px.scatter(train,x='windspeed',y='cnt')"
      ],
      "metadata": {
        "id": "zp38KJrNZpu5"
      },
      "execution_count": null,
      "outputs": []
    },
    {
      "cell_type": "code",
      "source": [
        "train.columns"
      ],
      "metadata": {
        "id": "chu1URYbhUN-",
        "colab": {
          "base_uri": "https://localhost:8080/"
        },
        "outputId": "d08d9b86-d615-4d06-f4bd-3087b8371391"
      },
      "execution_count": 22,
      "outputs": [
        {
          "output_type": "execute_result",
          "data": {
            "text/plain": [
              "Index(['instant', 'dteday', 'season', 'yr', 'mnth', 'hr', 'holiday', 'weekday',\n",
              "       'workingday', 'weathersit', 'temp', 'atemp', 'hum', 'windspeed',\n",
              "       'casual', 'registered', 'cnt'],\n",
              "      dtype='object')"
            ]
          },
          "metadata": {},
          "execution_count": 22
        }
      ]
    },
    {
      "cell_type": "markdown",
      "source": [
        "Regresión lineal entre las fechas y el número de bicicletas"
      ],
      "metadata": {
        "id": "0oU13iZYSHvM"
      }
    },
    {
      "cell_type": "code",
      "source": [
        "type(train['dteday'][0])"
      ],
      "metadata": {
        "colab": {
          "base_uri": "https://localhost:8080/"
        },
        "id": "x1iCBMpEVZid",
        "outputId": "52dfd3e1-14e8-45b3-c1fb-e68f4c1e83f0"
      },
      "execution_count": 83,
      "outputs": [
        {
          "output_type": "execute_result",
          "data": {
            "text/plain": [
              "numpy.int64"
            ]
          },
          "metadata": {},
          "execution_count": 83
        }
      ]
    },
    {
      "cell_type": "code",
      "source": [
        "train['dteday']=train['dteday'].map(dt.datetime.toordinal)"
      ],
      "metadata": {
        "id": "Hjbad_LjSMhO"
      },
      "execution_count": 108,
      "outputs": []
    },
    {
      "cell_type": "code",
      "source": [
        "train.head(2)"
      ],
      "metadata": {
        "colab": {
          "base_uri": "https://localhost:8080/",
          "height": 112
        },
        "id": "Kwo8Jla9Sbjm",
        "outputId": "3df4a5e2-4757-4965-a314-9de56e73c9f5"
      },
      "execution_count": 84,
      "outputs": [
        {
          "output_type": "execute_result",
          "data": {
            "text/plain": [
              "   instant  dteday  season  yr  mnth  hr  holiday  weekday  workingday  \\\n",
              "0        1  734138       1   0     1   0        0        6           0   \n",
              "1        2  734138       1   0     1   1        0        6           0   \n",
              "\n",
              "   weathersit  temp   atemp   hum  windspeed  casual  registered  cnt  \n",
              "0           1  0.24  0.2879  0.81        0.0       3          13   16  \n",
              "1           1  0.22  0.2727  0.80        0.0       8          32   40  "
            ],
            "text/html": [
              "\n",
              "  <div id=\"df-d8b08af0-1b97-4db1-9d20-c758655a56be\">\n",
              "    <div class=\"colab-df-container\">\n",
              "      <div>\n",
              "<style scoped>\n",
              "    .dataframe tbody tr th:only-of-type {\n",
              "        vertical-align: middle;\n",
              "    }\n",
              "\n",
              "    .dataframe tbody tr th {\n",
              "        vertical-align: top;\n",
              "    }\n",
              "\n",
              "    .dataframe thead th {\n",
              "        text-align: right;\n",
              "    }\n",
              "</style>\n",
              "<table border=\"1\" class=\"dataframe\">\n",
              "  <thead>\n",
              "    <tr style=\"text-align: right;\">\n",
              "      <th></th>\n",
              "      <th>instant</th>\n",
              "      <th>dteday</th>\n",
              "      <th>season</th>\n",
              "      <th>yr</th>\n",
              "      <th>mnth</th>\n",
              "      <th>hr</th>\n",
              "      <th>holiday</th>\n",
              "      <th>weekday</th>\n",
              "      <th>workingday</th>\n",
              "      <th>weathersit</th>\n",
              "      <th>temp</th>\n",
              "      <th>atemp</th>\n",
              "      <th>hum</th>\n",
              "      <th>windspeed</th>\n",
              "      <th>casual</th>\n",
              "      <th>registered</th>\n",
              "      <th>cnt</th>\n",
              "    </tr>\n",
              "  </thead>\n",
              "  <tbody>\n",
              "    <tr>\n",
              "      <th>0</th>\n",
              "      <td>1</td>\n",
              "      <td>734138</td>\n",
              "      <td>1</td>\n",
              "      <td>0</td>\n",
              "      <td>1</td>\n",
              "      <td>0</td>\n",
              "      <td>0</td>\n",
              "      <td>6</td>\n",
              "      <td>0</td>\n",
              "      <td>1</td>\n",
              "      <td>0.24</td>\n",
              "      <td>0.2879</td>\n",
              "      <td>0.81</td>\n",
              "      <td>0.0</td>\n",
              "      <td>3</td>\n",
              "      <td>13</td>\n",
              "      <td>16</td>\n",
              "    </tr>\n",
              "    <tr>\n",
              "      <th>1</th>\n",
              "      <td>2</td>\n",
              "      <td>734138</td>\n",
              "      <td>1</td>\n",
              "      <td>0</td>\n",
              "      <td>1</td>\n",
              "      <td>1</td>\n",
              "      <td>0</td>\n",
              "      <td>6</td>\n",
              "      <td>0</td>\n",
              "      <td>1</td>\n",
              "      <td>0.22</td>\n",
              "      <td>0.2727</td>\n",
              "      <td>0.80</td>\n",
              "      <td>0.0</td>\n",
              "      <td>8</td>\n",
              "      <td>32</td>\n",
              "      <td>40</td>\n",
              "    </tr>\n",
              "  </tbody>\n",
              "</table>\n",
              "</div>\n",
              "      <button class=\"colab-df-convert\" onclick=\"convertToInteractive('df-d8b08af0-1b97-4db1-9d20-c758655a56be')\"\n",
              "              title=\"Convert this dataframe to an interactive table.\"\n",
              "              style=\"display:none;\">\n",
              "        \n",
              "  <svg xmlns=\"http://www.w3.org/2000/svg\" height=\"24px\"viewBox=\"0 0 24 24\"\n",
              "       width=\"24px\">\n",
              "    <path d=\"M0 0h24v24H0V0z\" fill=\"none\"/>\n",
              "    <path d=\"M18.56 5.44l.94 2.06.94-2.06 2.06-.94-2.06-.94-.94-2.06-.94 2.06-2.06.94zm-11 1L8.5 8.5l.94-2.06 2.06-.94-2.06-.94L8.5 2.5l-.94 2.06-2.06.94zm10 10l.94 2.06.94-2.06 2.06-.94-2.06-.94-.94-2.06-.94 2.06-2.06.94z\"/><path d=\"M17.41 7.96l-1.37-1.37c-.4-.4-.92-.59-1.43-.59-.52 0-1.04.2-1.43.59L10.3 9.45l-7.72 7.72c-.78.78-.78 2.05 0 2.83L4 21.41c.39.39.9.59 1.41.59.51 0 1.02-.2 1.41-.59l7.78-7.78 2.81-2.81c.8-.78.8-2.07 0-2.86zM5.41 20L4 18.59l7.72-7.72 1.47 1.35L5.41 20z\"/>\n",
              "  </svg>\n",
              "      </button>\n",
              "      \n",
              "  <style>\n",
              "    .colab-df-container {\n",
              "      display:flex;\n",
              "      flex-wrap:wrap;\n",
              "      gap: 12px;\n",
              "    }\n",
              "\n",
              "    .colab-df-convert {\n",
              "      background-color: #E8F0FE;\n",
              "      border: none;\n",
              "      border-radius: 50%;\n",
              "      cursor: pointer;\n",
              "      display: none;\n",
              "      fill: #1967D2;\n",
              "      height: 32px;\n",
              "      padding: 0 0 0 0;\n",
              "      width: 32px;\n",
              "    }\n",
              "\n",
              "    .colab-df-convert:hover {\n",
              "      background-color: #E2EBFA;\n",
              "      box-shadow: 0px 1px 2px rgba(60, 64, 67, 0.3), 0px 1px 3px 1px rgba(60, 64, 67, 0.15);\n",
              "      fill: #174EA6;\n",
              "    }\n",
              "\n",
              "    [theme=dark] .colab-df-convert {\n",
              "      background-color: #3B4455;\n",
              "      fill: #D2E3FC;\n",
              "    }\n",
              "\n",
              "    [theme=dark] .colab-df-convert:hover {\n",
              "      background-color: #434B5C;\n",
              "      box-shadow: 0px 1px 3px 1px rgba(0, 0, 0, 0.15);\n",
              "      filter: drop-shadow(0px 1px 2px rgba(0, 0, 0, 0.3));\n",
              "      fill: #FFFFFF;\n",
              "    }\n",
              "  </style>\n",
              "\n",
              "      <script>\n",
              "        const buttonEl =\n",
              "          document.querySelector('#df-d8b08af0-1b97-4db1-9d20-c758655a56be button.colab-df-convert');\n",
              "        buttonEl.style.display =\n",
              "          google.colab.kernel.accessAllowed ? 'block' : 'none';\n",
              "\n",
              "        async function convertToInteractive(key) {\n",
              "          const element = document.querySelector('#df-d8b08af0-1b97-4db1-9d20-c758655a56be');\n",
              "          const dataTable =\n",
              "            await google.colab.kernel.invokeFunction('convertToInteractive',\n",
              "                                                     [key], {});\n",
              "          if (!dataTable) return;\n",
              "\n",
              "          const docLinkHtml = 'Like what you see? Visit the ' +\n",
              "            '<a target=\"_blank\" href=https://colab.research.google.com/notebooks/data_table.ipynb>data table notebook</a>'\n",
              "            + ' to learn more about interactive tables.';\n",
              "          element.innerHTML = '';\n",
              "          dataTable['output_type'] = 'display_data';\n",
              "          await google.colab.output.renderOutput(dataTable, element);\n",
              "          const docLink = document.createElement('div');\n",
              "          docLink.innerHTML = docLinkHtml;\n",
              "          element.appendChild(docLink);\n",
              "        }\n",
              "      </script>\n",
              "    </div>\n",
              "  </div>\n",
              "  "
            ]
          },
          "metadata": {},
          "execution_count": 84
        }
      ]
    },
    {
      "cell_type": "markdown",
      "source": [
        "Construyamos el modelo de Machine Learning. \n",
        "Utilizaré Regresión Lineal ya que la tendencia entre las fechas y el número de bicicletas es lineal."
      ],
      "metadata": {
        "id": "KkIN8X--Lrci"
      }
    },
    {
      "cell_type": "code",
      "source": [
        "x=train['dteday']\n",
        "x=np.array(x)\n",
        "y=train['cnt']\n",
        "model = LinearRegression(fit_intercept=True)\n",
        "X = x.reshape(-1,1)\n",
        "model.fit(X,y)\n",
        "y_fit=model.predict(X)\n",
        "print('Coeficiente', model.coef_, 'Intersección', model.intercept_)\n",
        "\n",
        "# \n",
        "plt.figure()\n",
        "plt.scatter(x,y,color='Green')\n",
        "plt.plot(X,y_fit, color='Black')\n",
        "plt.title('Regresión Lineal Bicicletas')\n",
        "plt.ylabel('Valor')\n",
        "plt.xlabel('Fechas')\n",
        "plt.show()"
      ],
      "metadata": {
        "colab": {
          "base_uri": "https://localhost:8080/",
          "height": 313
        },
        "id": "Ph61y78cXXRj",
        "outputId": "ca6177f8-f6bf-4db8-e075-9da82734abfb"
      },
      "execution_count": 109,
      "outputs": [
        {
          "output_type": "stream",
          "name": "stdout",
          "text": [
            "Coeficiente [0.23910917] Intersección -175441.1783611522\n"
          ]
        },
        {
          "output_type": "display_data",
          "data": {
            "text/plain": [
              "<Figure size 432x288 with 1 Axes>"
            ],
            "image/png": "[encoded data removed]"
          },
          "metadata": {
            "needs_background": "light"
          }
        }
      ]
    },
    {
      "cell_type": "code",
      "source": [
        "x_train, x_test, y_train, y_test=train_test_split(X,y,test_size=0.2, random_state=7)\n",
        "lr=LinearRegression(fit_intercept=True)\n",
        "lr.fit(x_train,y_train)\n",
        "y_train_pred=lr.predict(x_train)\n",
        "y_test_pred=lr.predict(x_test)\n",
        "print('RMSE Datos Entrenados',mean_squared_error(y_train,y_train_pred, squared=False))\n",
        "print('RMSE Datos de Prueba',mean_squared_error(y_test,y_test_pred, squared=False))\n"
      ],
      "metadata": {
        "colab": {
          "base_uri": "https://localhost:8080/"
        },
        "id": "Qutx2JNwbcaO",
        "outputId": "ab6a3eb5-e757-4f26-a273-ae2bfeb9642c"
      },
      "execution_count": 132,
      "outputs": [
        {
          "output_type": "stream",
          "name": "stdout",
          "text": [
            "RMSE Datos Entrenados 147.87828180588312\n",
            "RMSE Datos de Prueba 145.23452629957762\n"
          ]
        }
      ]
    },
    {
      "cell_type": "markdown",
      "source": [
        "Utilizando el Dataset TEST"
      ],
      "metadata": {
        "id": "MN0fdEAXk1UO"
      }
    },
    {
      "cell_type": "code",
      "source": [
        "test['dteday']=test['dteday'].map(dt.datetime.toordinal)"
      ],
      "metadata": {
        "id": "XKsYdrtfkugT"
      },
      "execution_count": null,
      "outputs": []
    },
    {
      "cell_type": "code",
      "source": [
        "X_test=np.array(test['dteday']).reshape(-1,1)\n",
        "y_test_pred=lr.predict(X_test)"
      ],
      "metadata": {
        "id": "wOavyasyleOA"
      },
      "execution_count": 136,
      "outputs": []
    },
    {
      "cell_type": "markdown",
      "source": [
        "Creando el archivo csv para entrega"
      ],
      "metadata": {
        "id": "keh3lndtmF3T"
      }
    },
    {
      "cell_type": "code",
      "source": [
        "entrega=pd.DataFrame(y_test_pred)\n",
        "entrega.columns=['pred']\n",
        "entrega.pred=entrega.pred.astype('int')\n",
        "entrega.loc[entrega['pred']<0, 'pred']=0\n",
        "entrega.to_csv('fvergara24.csv',index=False)"
      ],
      "metadata": {
        "id": "rXbWxmPEfKYJ"
      },
      "execution_count": 129,
      "outputs": []
    }
  ]
}